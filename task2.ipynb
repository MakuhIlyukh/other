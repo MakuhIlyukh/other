{
 "cells": [
  {
   "cell_type": "markdown",
   "metadata": {},
   "source": [
    "# imports"
   ]
  },
  {
   "cell_type": "code",
   "execution_count": 1,
   "metadata": {},
   "outputs": [],
   "source": [
    "import numpy as np\n",
    "import pandas as pd\n",
    "import matplotlib.pyplot as plt\n",
    "from IPython.display import display"
   ]
  },
  {
   "cell_type": "markdown",
   "metadata": {},
   "source": [
    "# Загрузка датасетов"
   ]
  },
  {
   "cell_type": "code",
   "execution_count": 2,
   "metadata": {},
   "outputs": [
    {
     "name": "stdout",
     "output_type": "stream",
     "text": [
      "df and df2\n"
     ]
    },
    {
     "data": {
      "text/html": [
       "<div>\n",
       "<style scoped>\n",
       "    .dataframe tbody tr th:only-of-type {\n",
       "        vertical-align: middle;\n",
       "    }\n",
       "\n",
       "    .dataframe tbody tr th {\n",
       "        vertical-align: top;\n",
       "    }\n",
       "\n",
       "    .dataframe thead th {\n",
       "        text-align: right;\n",
       "    }\n",
       "</style>\n",
       "<table border=\"1\" class=\"dataframe\">\n",
       "  <thead>\n",
       "    <tr style=\"text-align: right;\">\n",
       "      <th></th>\n",
       "      <th>time</th>\n",
       "      <th>side</th>\n",
       "      <th>price</th>\n",
       "      <th>volume</th>\n",
       "      <th>volume_bid</th>\n",
       "      <th>bid_price</th>\n",
       "      <th>ask_price</th>\n",
       "      <th>volume_ask</th>\n",
       "    </tr>\n",
       "  </thead>\n",
       "  <tbody>\n",
       "    <tr>\n",
       "      <th>0</th>\n",
       "      <td>1622505601191796236</td>\n",
       "      <td>-1</td>\n",
       "      <td>1108.9</td>\n",
       "      <td>36</td>\n",
       "      <td>6</td>\n",
       "      <td>1108.7</td>\n",
       "      <td>1108.8</td>\n",
       "      <td>104</td>\n",
       "    </tr>\n",
       "    <tr>\n",
       "      <th>1</th>\n",
       "      <td>1622505601222248272</td>\n",
       "      <td>-1</td>\n",
       "      <td>1108.7</td>\n",
       "      <td>17</td>\n",
       "      <td>10</td>\n",
       "      <td>1108.5</td>\n",
       "      <td>1108.6</td>\n",
       "      <td>23</td>\n",
       "    </tr>\n",
       "    <tr>\n",
       "      <th>2</th>\n",
       "      <td>1622505601364445668</td>\n",
       "      <td>-1</td>\n",
       "      <td>1108.5</td>\n",
       "      <td>20</td>\n",
       "      <td>16</td>\n",
       "      <td>1108.3</td>\n",
       "      <td>1108.6</td>\n",
       "      <td>23</td>\n",
       "    </tr>\n",
       "    <tr>\n",
       "      <th>3</th>\n",
       "      <td>1622505601405325968</td>\n",
       "      <td>1</td>\n",
       "      <td>1108.6</td>\n",
       "      <td>1</td>\n",
       "      <td>16</td>\n",
       "      <td>1108.3</td>\n",
       "      <td>1108.6</td>\n",
       "      <td>22</td>\n",
       "    </tr>\n",
       "    <tr>\n",
       "      <th>4</th>\n",
       "      <td>1622505601406994624</td>\n",
       "      <td>-1</td>\n",
       "      <td>1108.3</td>\n",
       "      <td>16</td>\n",
       "      <td>18</td>\n",
       "      <td>1108.2</td>\n",
       "      <td>1108.3</td>\n",
       "      <td>12</td>\n",
       "    </tr>\n",
       "  </tbody>\n",
       "</table>\n",
       "</div>"
      ],
      "text/plain": [
       "                  time  side   price  volume  volume_bid  bid_price  \\\n",
       "0  1622505601191796236    -1  1108.9      36           6     1108.7   \n",
       "1  1622505601222248272    -1  1108.7      17          10     1108.5   \n",
       "2  1622505601364445668    -1  1108.5      20          16     1108.3   \n",
       "3  1622505601405325968     1  1108.6       1          16     1108.3   \n",
       "4  1622505601406994624    -1  1108.3      16          18     1108.2   \n",
       "\n",
       "   ask_price  volume_ask  \n",
       "0     1108.8         104  \n",
       "1     1108.6          23  \n",
       "2     1108.6          23  \n",
       "3     1108.6          22  \n",
       "4     1108.3          12  "
      ]
     },
     "metadata": {},
     "output_type": "display_data"
    },
    {
     "data": {
      "text/html": [
       "<div>\n",
       "<style scoped>\n",
       "    .dataframe tbody tr th:only-of-type {\n",
       "        vertical-align: middle;\n",
       "    }\n",
       "\n",
       "    .dataframe tbody tr th {\n",
       "        vertical-align: top;\n",
       "    }\n",
       "\n",
       "    .dataframe thead th {\n",
       "        text-align: right;\n",
       "    }\n",
       "</style>\n",
       "<table border=\"1\" class=\"dataframe\">\n",
       "  <thead>\n",
       "    <tr style=\"text-align: right;\">\n",
       "      <th></th>\n",
       "      <th>time</th>\n",
       "      <th>id</th>\n",
       "      <th>side</th>\n",
       "      <th>price</th>\n",
       "      <th>volume</th>\n",
       "      <th>volume_left</th>\n",
       "      <th>delta_execsend</th>\n",
       "    </tr>\n",
       "  </thead>\n",
       "  <tbody>\n",
       "    <tr>\n",
       "      <th>0</th>\n",
       "      <td>1622505601222248272</td>\n",
       "      <td>281481419161600</td>\n",
       "      <td>1</td>\n",
       "      <td>1108.6</td>\n",
       "      <td>1</td>\n",
       "      <td>10</td>\n",
       "      <td>30451968</td>\n",
       "    </tr>\n",
       "    <tr>\n",
       "      <th>1</th>\n",
       "      <td>1622505601424113404</td>\n",
       "      <td>562956395872256</td>\n",
       "      <td>-1</td>\n",
       "      <td>1108.4</td>\n",
       "      <td>1</td>\n",
       "      <td>22</td>\n",
       "      <td>17118720</td>\n",
       "    </tr>\n",
       "    <tr>\n",
       "      <th>2</th>\n",
       "      <td>1622505601604667896</td>\n",
       "      <td>844431372582912</td>\n",
       "      <td>1</td>\n",
       "      <td>1108.3</td>\n",
       "      <td>1</td>\n",
       "      <td>2</td>\n",
       "      <td>153866496</td>\n",
       "    </tr>\n",
       "    <tr>\n",
       "      <th>3</th>\n",
       "      <td>1622505602982200992</td>\n",
       "      <td>1125906349293568</td>\n",
       "      <td>-1</td>\n",
       "      <td>1108.4</td>\n",
       "      <td>1</td>\n",
       "      <td>1</td>\n",
       "      <td>153371136</td>\n",
       "    </tr>\n",
       "    <tr>\n",
       "      <th>4</th>\n",
       "      <td>1622505603600579508</td>\n",
       "      <td>1407381326004224</td>\n",
       "      <td>1</td>\n",
       "      <td>1108.3</td>\n",
       "      <td>1</td>\n",
       "      <td>6</td>\n",
       "      <td>618378496</td>\n",
       "    </tr>\n",
       "  </tbody>\n",
       "</table>\n",
       "</div>"
      ],
      "text/plain": [
       "                  time                id  side   price  volume  volume_left  \\\n",
       "0  1622505601222248272   281481419161600     1  1108.6       1           10   \n",
       "1  1622505601424113404   562956395872256    -1  1108.4       1           22   \n",
       "2  1622505601604667896   844431372582912     1  1108.3       1            2   \n",
       "3  1622505602982200992  1125906349293568    -1  1108.4       1            1   \n",
       "4  1622505603600579508  1407381326004224     1  1108.3       1            6   \n",
       "\n",
       "   delta_execsend  \n",
       "0        30451968  \n",
       "1        17118720  \n",
       "2       153866496  \n",
       "3       153371136  \n",
       "4       618378496  "
      ]
     },
     "metadata": {},
     "output_type": "display_data"
    }
   ],
   "source": [
    "df = pd.read_csv(\n",
    "    \"market_logs.log\",\n",
    "    sep=r\"mLog: market trd at | with side |, price |, traded volume | then book became |@|x\",\n",
    "    names=['', 'time', 'side', 'price', 'volume', 'volume_bid', 'bid_price', 'ask_price', 'volume_ask'],\n",
    "    usecols=['time', 'side', 'price', 'volume', 'volume_bid', 'bid_price', 'ask_price', 'volume_ask'],\n",
    "    engine='python'\n",
    ")\n",
    "\n",
    "df2 = pd.read_csv(\n",
    "    \"exec_logs.log\",\n",
    "    sep=r\"eLog: order exec at | with id |, side |, price |, traded volume |, volume left on level |, delta_execsend \",\n",
    "    names=['', 'time', 'id', 'side', 'price', 'volume', 'volume_left', 'delta_execsend'],\n",
    "    usecols=['time', 'id', 'side', 'price', 'volume', 'volume_left', 'delta_execsend'],\n",
    "    engine='python'\n",
    ")\n",
    "\n",
    "print(\"df and df2\")\n",
    "display(df.head(), df2.head())"
   ]
  },
  {
   "cell_type": "markdown",
   "metadata": {},
   "source": [
    "### datasets info"
   ]
  },
  {
   "cell_type": "code",
   "execution_count": 3,
   "metadata": {},
   "outputs": [
    {
     "name": "stdout",
     "output_type": "stream",
     "text": [
      "<class 'pandas.core.frame.DataFrame'>\n",
      "RangeIndex: 397802 entries, 0 to 397801\n",
      "Data columns (total 8 columns):\n",
      " #   Column      Non-Null Count   Dtype  \n",
      "---  ------      --------------   -----  \n",
      " 0   time        397802 non-null  int64  \n",
      " 1   side        397802 non-null  int64  \n",
      " 2   price       397802 non-null  float64\n",
      " 3   volume      397802 non-null  int64  \n",
      " 4   volume_bid  397802 non-null  int64  \n",
      " 5   bid_price   397802 non-null  float64\n",
      " 6   ask_price   397802 non-null  float64\n",
      " 7   volume_ask  397802 non-null  int64  \n",
      "dtypes: float64(3), int64(5)\n",
      "memory usage: 24.3 MB\n",
      "\n",
      "\n",
      "<class 'pandas.core.frame.DataFrame'>\n",
      "RangeIndex: 8682 entries, 0 to 8681\n",
      "Data columns (total 7 columns):\n",
      " #   Column          Non-Null Count  Dtype  \n",
      "---  ------          --------------  -----  \n",
      " 0   time            8682 non-null   int64  \n",
      " 1   id              8682 non-null   int64  \n",
      " 2   side            8682 non-null   int64  \n",
      " 3   price           8682 non-null   float64\n",
      " 4   volume          8682 non-null   int64  \n",
      " 5   volume_left     8682 non-null   int64  \n",
      " 6   delta_execsend  8682 non-null   int64  \n",
      "dtypes: float64(1), int64(6)\n",
      "memory usage: 474.9 KB\n"
     ]
    }
   ],
   "source": [
    "df.info()\n",
    "print()\n",
    "print()\n",
    "df2.info()"
   ]
  },
  {
   "cell_type": "markdown",
   "metadata": {},
   "source": [
    "### Проверка упорядоченности отностительно столбца `time`"
   ]
  },
  {
   "cell_type": "code",
   "execution_count": 4,
   "metadata": {},
   "outputs": [
    {
     "data": {
      "text/plain": [
       "(True, True)"
      ]
     },
     "execution_count": 4,
     "metadata": {},
     "output_type": "execute_result"
    }
   ],
   "source": [
    "(np.all(df.time.values[:-1] < df.time.values[1:]),\n",
    " np.all(df2.time.values[:-1] < df2.time.values[1:]))"
   ]
  },
  {
   "cell_type": "markdown",
   "metadata": {},
   "source": [
    "# Корреляция"
   ]
  },
  {
   "cell_type": "markdown",
   "metadata": {},
   "source": [
    "### Нахождение пятисекундных временных смещений `(mid_price через 5 секунд)`"
   ]
  },
  {
   "cell_type": "code",
   "execution_count": 5,
   "metadata": {},
   "outputs": [],
   "source": [
    "MIN_TIME_SHIFT = int(4.5 * 10**9)\n",
    "\n",
    "\n",
    "i = 0\n",
    "j = 0\n",
    "# Разница во времени между ордером и оценкой mid_price\n",
    "# Мы стараемся посчить ровно через 5 секунд,\n",
    "# но это не всегда получается из дискретности данных и перерывов.\n",
    "diffs = np.empty(df2.shape[0], dtype=np.int64)\n",
    "# Индексы строк из df через 5 секунд после ордера из df2\n",
    "nearest = np.empty(df2.shape[0], dtype=np.int64)\n",
    "while i < df2.shape[0]:\n",
    "    diff = df.time[j] - df2.time[i] - df2.delta_execsend[i]\n",
    "    if diff >= MIN_TIME_SHIFT:\n",
    "        diffs[i] = diff\n",
    "        nearest[i] = j\n",
    "        i += 1\n",
    "    else:\n",
    "        j += 1\n",
    "\n",
    "mid_price = df.iloc[nearest][['bid_price', 'ask_price']].mean(axis=1).values\n",
    "dmid5 = (mid_price - df2.price.values) * df2.side.values\n",
    "\n"
   ]
  },
  {
   "cell_type": "markdown",
   "metadata": {},
   "source": [
    "### Подсчет корреляции пирсона"
   ]
  },
  {
   "cell_type": "code",
   "execution_count": 6,
   "metadata": {},
   "outputs": [
    {
     "name": "stdout",
     "output_type": "stream",
     "text": [
      "Корреляция с выбросами: 0.013686926395611893\n",
      "Корреляция без выбросов: 0.04376968665102065\n",
      "Верхний квантиль временного смещения измерения dmid5 (в секундах): 5.496720640596\n"
     ]
    }
   ],
   "source": [
    "TOP_QUANTILE = 0.217\n",
    "\n",
    "\n",
    "mid_price = df.iloc[nearest][['bid_price', 'ask_price']].mean(axis=1).values\n",
    "dmid5 = (mid_price - df2.price.values) * df2.side.values\n",
    "\n",
    "print('Корреляция с выбросами:', np.corrcoef(dmid5, df2.delta_execsend)[0, 1]),\n",
    "print('Корреляция без выбросов:', np.corrcoef(dmid5[diffs <= np.quantile(diffs, TOP_QUANTILE)], df2.delta_execsend.values[diffs <= np.quantile(diffs, TOP_QUANTILE)])[0, 1])\n",
    "print('Верхний квантиль временного смещения измерения dmid5 (в секундах):', np.quantile(diffs, TOP_QUANTILE) / 10**9)"
   ]
  }
 ],
 "metadata": {
  "kernelspec": {
   "display_name": "Python 3.8.4 ('env': venv)",
   "language": "python",
   "name": "python3"
  },
  "language_info": {
   "codemirror_mode": {
    "name": "ipython",
    "version": 3
   },
   "file_extension": ".py",
   "mimetype": "text/x-python",
   "name": "python",
   "nbconvert_exporter": "python",
   "pygments_lexer": "ipython3",
   "version": "3.8.4"
  },
  "orig_nbformat": 4,
  "vscode": {
   "interpreter": {
    "hash": "d6beab2f9fa592a9c4a1b4b7d83ea7a551f04e6c61f1bb442dece1d27bef1bd3"
   }
  }
 },
 "nbformat": 4,
 "nbformat_minor": 2
}
